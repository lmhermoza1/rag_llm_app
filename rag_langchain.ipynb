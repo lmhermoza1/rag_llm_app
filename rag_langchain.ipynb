{
 "cells": [
  {
   "cell_type": "code",
   "execution_count": 4,
   "metadata": {},
   "outputs": [],
   "source": [
    "import os\n",
    "import dotenv\n",
    "from pathlib import Path\n",
    "\n",
    "from langchain_core.messages import AIMessage, HumanMessage\n",
    "from langchain_community.document_loaders.text import TextLoader\n",
    "from langchain_community.document_loaders import (\n",
    "    WebBaseLoader, \n",
    "    PyPDFLoader, \n",
    "    Docx2txtLoader,\n",
    ")\n",
    "from langchain_community.vectorstores import Chroma\n",
    "from langchain.text_splitter import RecursiveCharacterTextSplitter\n",
    "from langchain_openai import OpenAIEmbeddings, ChatOpenAI\n",
    "from langchain_anthropic import ChatAnthropic\n",
    "from langchain_core.prompts import ChatPromptTemplate, MessagesPlaceholder\n",
    "from langchain.chains import create_history_aware_retriever, create_retrieval_chain\n",
    "from langchain.chains.combine_documents import create_stuff_documents_chain\n",
    "\n",
    "dotenv.load_dotenv()\n",
    "os.environ[\"USER_AGENT\"] = \"rag-llm-app/1.0\""
   ]
  },
  {
   "cell_type": "code",
   "execution_count": 3,
   "metadata": {},
   "outputs": [],
   "source": [
    "# Load docs\n",
    "\n",
    "doc_paths = [\n",
    "    \"docs/test_rag.pdf\",\n",
    "    \"docs/test_rag.docx\",\n",
    "]\n",
    "\n",
    "docs = [] \n",
    "for doc_file in doc_paths:\n",
    "    file_path = Path(doc_file)\n",
    "\n",
    "    try:\n",
    "        if doc_file.endswith(\".pdf\"):\n",
    "            loader = PyPDFLoader(file_path)\n",
    "        elif doc_file.endswith(\".docx\"):\n",
    "            loader = Docx2txtLoader(file_path)\n",
    "        elif doc_file.endswith(\".txt\") or doc_file.name.endswith(\".md\"):\n",
    "            loader = TextLoader(file_path)\n",
    "        else:\n",
    "            print(f\"Document type {doc_file.type} not supported.\")\n",
    "            continue\n",
    "\n",
    "        docs.extend(loader.load())\n",
    "\n",
    "    except Exception as e:\n",
    "        print(f\"Error loading document {doc_file.name}: {e}\")\n",
    "\n",
    "\n",
    "# Load URLs\n",
    "\n",
    "url = \"https://docs.streamlit.io/develop/quick-reference/release-notes\"\n",
    "try:\n",
    "    loader = WebBaseLoader(url)\n",
    "    docs.extend(loader.load())\n",
    "\n",
    "except Exception as e:\n",
    "    print(f\"Error loading document from {url}: {e}\")"
   ]
  },
  {
   "cell_type": "code",
   "execution_count": null,
   "metadata": {},
   "outputs": [],
   "source": []
  },
  {
   "cell_type": "markdown",
   "metadata": {},
   "source": []
  },
  {
   "cell_type": "code",
   "execution_count": 4,
   "metadata": {},
   "outputs": [
    {
     "data": {
      "text/plain": [
       "[Document(metadata={'producer': 'Microsoft® Word for Microsoft 365', 'creator': 'Microsoft® Word for Microsoft 365', 'creationdate': '2024-09-15T19:40:36+02:00', 'msip_label_1cf2ba15-c468-47c8-b178-cba8acf110ec_siteid': 'eb25818e-5bd5-49bf-99de-53e3e7b42630', 'msip_label_1cf2ba15-c468-47c8-b178-cba8acf110ec_method': 'Standard', 'msip_label_1cf2ba15-c468-47c8-b178-cba8acf110ec_enabled': 'True', 'author': 'Domingo Domènech Enric (ERNI)', 'moddate': '2024-09-15T19:40:36+02:00', 'source': 'docs\\\\test_rag.pdf', 'total_pages': 1, 'page': 0, 'page_label': '1'}, page_content='My favorite food is margarita pizza. \\nThere are 47588 bottles in the truck.'),\n",
       " Document(metadata={'source': 'docs\\\\test_rag.docx'}, page_content='My favorite food is margarita pizza.\\n\\nThere are 47588 bottles in the truck.'),\n",
       " Document(metadata={'source': 'https://docs.streamlit.io/develop/quick-reference/release-notes', 'title': 'Release notes - Streamlit Docs', 'description': 'A changelog of highlights and fixes for each version of Streamlit.', 'language': 'No language found.'}, page_content=\"Release notes - Streamlit DocsDocumentationsearchSearchrocket_launchGet startedInstallationaddFundamentalsaddFirst stepsaddcodeDevelopConceptsaddAPI referenceaddTutorialsaddQuick referenceremoveCheat sheetRelease notesremove2025202420232022202120202019Pre-release featuresRoadmapopen_in_newweb_assetDeployConceptsaddStreamlit Community CloudaddSnowflakeOther platformsaddschoolKnowledge baseFAQInstalling dependenciesDeployment issuesHome/Develop/Quick reference/Release notesRelease notes\\nThis page lists highlights, bug fixes, and known issues for the latest release of Streamlit. If you're looking for information about nightly releases or experimental features, see Pre-release features.\\nUpgrade Streamlit\\nstarTipTo upgrade to the latest version of Streamlit, run:pip install --upgrade streamlit\\n\\nVersion 1.45.0 (latest)\\nRelease date: April 29, 2025\\nHighlights\\n\\n🧑 Announcing the general availability of st.user, a dict-like object to access information about the current user.\\n\\nNotable Changes\\n\\n➕ st.multiselect and st.selectbox have a new parameter to let users add new options.\\n🥸 st.context has new attributes: url, ip_address, and is_embedded.\\n⚠️ Text alerts and exceptions have a new width parameter (#11142).\\n⌨️ You can set the tab index for st.components.v1.html and st.components.v1.iframe (#11065, #7969).\\n🌐 When you pass a CSS file's path to st.html, Streamlit will automatically insert <style> tags and avoid creating extra space in the app (#10979, #9388, #10027).\\n😃 You can add an icon to the left of the value in st.text_input and st.number_input.\\n\\nOther Changes\\n\\n🗑️ Per the scheduled deprecation, st.experimental_audio_input has been removed. Use st.audio_input instead.\\n💅 Various elements received styling tweaks for consistency and compatibility with advanced theming (#10916, #10930, #10915, #10944, #10990, #11033, #11034).\\n⚒️ The element toolbar sizing and spacing was adjusted for improved UX (#11135, #11155).\\n🫥 Bug fix: Streamlit does not display a frontend error when displaying an empty dataframe (#11100, #11064).\\n🔁 Bug fix: st.context retains its information when calling st.rerun (#11113, #11111).\\n💩 Bug fix: st.camera_input has the correct color and hover effect when disabled (#11116).\\n🎤 Bug fix: st.audio_input has consistent color and hover effects with other widgets (#11118).\\n↔️ Bug fix: st.logo displays correctly when the sidebar is resized (#11063, #11062).\\n📂 Bug fix: st.file_uploader can handle multi-part file extensions in its type parameter (#11043, #11041). Thanks, moutayam!\\n💈 Bug fix: theme.fontFaces correctly supports font style (#11098, #11097).\\n🧹 Bug fix: streamlit init specifies file encoding to avoid errors in systems where UTF-8 is not the default (#11090, #11086). Thanks, ashm-dev!\\n📜 Bug fix: In the sidebar, space is reserved for the scrollbar to prevent flickering from resizing (#10733, #10310).\\n🪱 Bug fix: st.logo supports SVGs defined with a viewBox (#11038, #10904).\\n☠️ Bug fix: st.date_input raises an error in the UI if a user enters a date outside of the specified allowed range (#10764, #8475).\\n👽 Bug fix: st.snow and st.balloons don't incorrectly rerun during a fragment rerun (#11015, #10961).\\n👻 Bug fix: When updating config.tomlduring development, Streamlit will elegantly handle invalid TOML formatting and reload the configuration file on the next save (#10857, #1256, #8320).\\n🦋 Bug fix: Streamlit applies the correct hover effect when colored text is used in button labels (#10996, #8767).\\n🦀 Bug fix: Streamlit ignores __init__.py and dotfiles in the /pages directory when automatically declaring pages in a multipage app (#11009, #11006).\\n⏩ st.write received an optimization tweak for rendering strings (#10985).\\n🦎 Bug fix: st.html renders at 100% width for correct sizing (#10976, #10964).\\n🐌 Bug fix: Page links become disabled if a client disconnects from the Streamlit server (#10946, #9198).\\n🕸️ Bug fix: Streamlit supports newer emojis in page icons (#10912, #11154).\\n🦗 Bug fix: st.exception only shows links to Google and ChatGPT when the app is being accessed through localhost (#10971, #10924).\\n🦂 Bug fix: st.chat_input will expand to show multi-line placeholder text in most browsers. Firefox does not support this fix (#10931, #10611).\\n🦟 Bug fix: Streamlit elegantly catches a TypeError when concurrent changes to rows and columns cause a failure in serialization (#10954, #10937).\\n🦠 Bug fix: Streamlit cleanly handles non-ASCII characters in anchor links, which may change some anchors in existing apps (#10929, #8114).\\n🪰 Bug fix: To prevent a race condition, session information is not immediately cleared unless a new session message is received (#9886, #9767).\\n🪳 Bug fix: streamlit config show correctly displays client.showErrorDetails as a string instead of a list (#10921, #10913).\\n🕷️ Bug fix: st.selectbox does not lose its value if a partial edit is abandoned (#10891).\\n🐞 Bug fix: st.badge doesn't falsely show rainbow as a color option (#10896).\\n🐝 Bug fix: To avoid a file lock conflict the occurs with some IDEs, Streamlit's file watcher utilities retries reading files when blocked (#10868, #4486). Thanks, Morridin!\\n🐜 Bug fix: st.selectbox and st.multiselect have consistent color and spacing for placeholder text (#10865).\\n🪲 Bug fix: Context managers correctly handle form elements (#10752, #8761). Thanks, SrGesus!\\n🐛 Bug fix: st.link_button and st.tabs remain active when a client disconnects from a Streamlit server (#10861).\\n\\nOlder versions of Streamlit\\n\\n2025 release notes\\n2024 release notes\\n2023 release notes\\n2022 release notes\\n2021 release notes\\n2020 release notes\\n2019 release notes\\nPrevious: Cheat sheetNext: 2025forumStill have questions?Our forums are full of helpful information and Streamlit experts.HomeContact UsCommunity© 2025 Snowflake Inc.Cookie policyforum Ask AI\")]"
      ]
     },
     "execution_count": 4,
     "metadata": {},
     "output_type": "execute_result"
    }
   ],
   "source": [
    "docs"
   ]
  },
  {
   "cell_type": "code",
   "execution_count": 5,
   "metadata": {},
   "outputs": [],
   "source": [
    "# Split docs\n",
    "\n",
    "text_splitter = RecursiveCharacterTextSplitter(\n",
    "    chunk_size=5000,\n",
    "    chunk_overlap=1000,\n",
    ")\n",
    "\n",
    "document_chunks = text_splitter.split_documents(docs)"
   ]
  },
  {
   "cell_type": "code",
   "execution_count": null,
   "metadata": {},
   "outputs": [
    {
     "ename": "NameError",
     "evalue": "name 'AzureOpenAIEmbeddings' is not defined",
     "output_type": "error",
     "traceback": [
      "\u001b[31m---------------------------------------------------------------------------\u001b[39m",
      "\u001b[31mNameError\u001b[39m                                 Traceback (most recent call last)",
      "\u001b[36mCell\u001b[39m\u001b[36m \u001b[39m\u001b[32mIn[11]\u001b[39m\u001b[32m, line 5\u001b[39m\n\u001b[32m      1\u001b[39m \u001b[38;5;66;03m# Tokenize and load the documents to the vector store\u001b[39;00m\n\u001b[32m      3\u001b[39m vector_db = Chroma.from_documents(\n\u001b[32m      4\u001b[39m     documents=document_chunks,\n\u001b[32m----> \u001b[39m\u001b[32m5\u001b[39m     embedding=\u001b[43mAzureOpenAIEmbeddings\u001b[49m(),\n\u001b[32m      6\u001b[39m )\n",
      "\u001b[31mNameError\u001b[39m: name 'AzureOpenAIEmbeddings' is not defined"
     ]
    }
   ],
   "source": [
    "# Tokenize and load the documents to the vector store\n",
    "\n",
    "vector_db = Chroma.from_documents(\n",
    "    documents=document_chunks,\n",
    "    embedding=OpenAIEmbeddings(),\n",
    ")"
   ]
  },
  {
   "cell_type": "code",
   "execution_count": null,
   "metadata": {},
   "outputs": [],
   "source": [
    "# Retrieve\n",
    "\n",
    "def _get_context_retriever_chain(vector_db, llm):\n",
    "    retriever = vector_db.as_retriever()\n",
    "    prompt = ChatPromptTemplate.from_messages([\n",
    "        MessagesPlaceholder(variable_name=\"messages\"),\n",
    "        (\"user\", \"{input}\"),\n",
    "        (\"user\", \"Given the above conversation, generate a search query to look up in order to get inforamtion relevant to the conversation, focusing on the most recent messages.\"),\n",
    "    ])\n",
    "    retriever_chain = create_history_aware_retriever(llm, retriever, prompt)\n",
    "\n",
    "    return retriever_chain"
   ]
  },
  {
   "cell_type": "code",
   "execution_count": null,
   "metadata": {},
   "outputs": [],
   "source": [
    "def get_conversational_rag_chain(llm):\n",
    "    retriever_chain = _get_context_retriever_chain(vector_db, llm)\n",
    "\n",
    "    prompt = ChatPromptTemplate.from_messages([\n",
    "        (\"system\",\n",
    "        \"\"\"You are a helpful assistant. You will have to answer to user's queries.\n",
    "        You will have some context to help with your answers, but now always would be completely related or helpful.\n",
    "        You can also use your knowledge to assist answering the user's queries.\\n\n",
    "        {context}\"\"\"),\n",
    "        MessagesPlaceholder(variable_name=\"messages\"),\n",
    "        (\"user\", \"{input}\"),\n",
    "    ])\n",
    "    stuff_documents_chain = create_stuff_documents_chain(llm, prompt)\n",
    "\n",
    "    return create_retrieval_chain(retriever_chain, stuff_documents_chain)"
   ]
  },
  {
   "cell_type": "code",
   "execution_count": null,
   "metadata": {},
   "outputs": [
    {
     "name": "stdout",
     "output_type": "stream",
     "text": [
      "The latest version of Streamlit is 1.38.0, released on August 27, 2024. Would you like to know more about the highlights or changes in this version?"
     ]
    }
   ],
   "source": [
    "# Augmented Generation\n",
    "\n",
    "llm_stream_openai = ChatOpenAI(\n",
    "    model=\"gpt-4o\",  # Here you could use \"o1-preview\" or \"o1-mini\" if you already have access to them\n",
    "    temperature=0.3,\n",
    "    streaming=True,\n",
    ")\n",
    "\n",
    "llm_stream_anthropic = ChatAnthropic(\n",
    "    model=\"claude-3-5-sonnet-20240620\",\n",
    "    temperature=0.3,\n",
    "    streaming=True,\n",
    ")\n",
    "\n",
    "llm_stream = llm_stream_openai  # Select between OpenAI and Anthropic models for the response\n",
    "\n",
    "messages = [\n",
    "    {\"role\": \"user\", \"content\": \"Hi\"},\n",
    "    {\"role\": \"assistant\", \"content\": \"Hi there! How can I assist you today?\"},\n",
    "    {\"role\": \"user\", \"content\": \"What is the latest version of Streamlit?\"},\n",
    "]\n",
    "messages = [HumanMessage(content=m[\"content\"]) if m[\"role\"] == \"user\" else AIMessage(content=m[\"content\"]) for m in messages]\n",
    "\n",
    "conversation_rag_chain = get_conversational_rag_chain(llm_stream)\n",
    "response_message = \"*(RAG Response)*\\n\"\n",
    "for chunk in conversation_rag_chain.pick(\"answer\").stream({\"messages\": messages[:-1], \"input\": messages[-1].content}):\n",
    "    response_message += chunk\n",
    "    print(chunk, end=\"\", flush=True)\n",
    "\n",
    "messages.append({\"role\": \"assistant\", \"content\": response_message})"
   ]
  },
  {
   "cell_type": "code",
   "execution_count": null,
   "metadata": {},
   "outputs": [],
   "source": []
  },
  {
   "cell_type": "code",
   "execution_count": 2,
   "metadata": {},
   "outputs": [
    {
     "name": "stdout",
     "output_type": "stream",
     "text": [
      "Azure is Microsoft's cloud computing platform and service, providing a wide range of cloud services, including those for computing, analytics, storage, and networking. Users can choose and configure these services to meet their specific needs. Here are some key aspects of Azure:\n",
      "\n",
      "1. **Compute Services**: Azure offers virtual machines, app services, and container services, allowing users to run applications in the cloud. It supports various programming languages, frameworks, and operating systems.\n",
      "\n",
      "2. **Storage Services**: Azure provides scalable cloud storage solutions, including Blob Storage for unstructured data, Azure Files for managed file shares, and Azure Disk Storage for virtual machine disks.\n",
      "\n",
      "3. **Networking**: Azure's networking services include Virtual Network, Load Balancer, and VPN Gateway, enabling users to create secure and scalable networks in the cloud.\n",
      "\n",
      "4. **Databases**: Azure offers a variety of database services, such as Azure SQL Database, Cosmos DB, and Azure Database for MySQL, PostgreSQL, and MariaDB, catering to different data management needs.\n",
      "\n",
      "5. **Analytics and AI**: Azure provides tools for data analysis and machine learning, including Azure Synapse Analytics, Azure Machine Learning, and Power BI, helping organizations derive insights from their data.\n",
      "\n",
      "6. **Security and Identity**: Azure emphasizes security with services like Azure Active Directory, Azure Security Center, and Azure Key Vault, ensuring secure identity management and data protection.\n",
      "\n",
      "7. **DevOps and Development**: Azure supports DevOps practices with Azure DevOps, GitHub integration, and tools for continuous integration and continuous deployment (CI/CD).\n",
      "\n",
      "8. **Hybrid and Multi-cloud**: Azure Arc enables users to manage and govern resources across on-premises, multi-cloud, and edge environments, providing flexibility and control.\n",
      "\n",
      "9. **Compliance and Governance**: Azure offers compliance certifications and governance tools to help organizations meet regulatory requirements and manage their cloud resources effectively.\n",
      "\n",
      "10. **Global Reach**: Azure has data centers located around the world, providing global scalability and redundancy to ensure high availability and performance.\n",
      "\n",
      "Azure is widely used by businesses of all sizes for its flexibility, scalability, and integration capabilities, making it a key player in the cloud computing market."
     ]
    }
   ],
   "source": [
    "import os\n",
    "from langchain_openai import AzureChatOpenAI\n",
    "import dotenv\n",
    "\n",
    "dotenv.load_dotenv()\n",
    "\n",
    "llm_stream = AzureChatOpenAI(\n",
    "    azure_endpoint=os.getenv(\"AZ_OPENAI_ENDPOINT\"),\n",
    "    openai_api_version=\"2025-01-01-preview\",\n",
    "    model_name=\"gpt-4o\",\n",
    "    openai_api_key=os.getenv(\"AZ_OPENAI_API_KEY\"),\n",
    "    openai_api_type=\"azure\",\n",
    "    temperature=0.3,\n",
    "    streaming=True,\n",
    ")\n",
    "\n",
    "prompt = \"Tell me something about Azure\"\n",
    "\n",
    "for chunk in llm_stream.stream(prompt):\n",
    "    print(chunk.content, end=\"\", flush=True)"
   ]
  }
 ],
 "metadata": {
  "kernelspec": {
   "display_name": "venv",
   "language": "python",
   "name": "python3"
  },
  "language_info": {
   "codemirror_mode": {
    "name": "ipython",
    "version": 3
   },
   "file_extension": ".py",
   "mimetype": "text/x-python",
   "name": "python",
   "nbconvert_exporter": "python",
   "pygments_lexer": "ipython3",
   "version": "3.12.1"
  }
 },
 "nbformat": 4,
 "nbformat_minor": 2
}
